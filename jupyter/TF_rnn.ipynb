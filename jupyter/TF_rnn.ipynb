{
 "cells": [
  {
   "cell_type": "markdown",
   "metadata": {},
   "source": [
    "# import"
   ]
  },
  {
   "cell_type": "code",
   "execution_count": null,
   "metadata": {},
   "outputs": [],
   "source": [
    "# -*- coding:utf-8 -*-\n",
    "import tensorflow as tf"
   ]
  },
  {
   "cell_type": "markdown",
   "metadata": {},
   "source": [
    "# 計算グラフ"
   ]
  },
  {
   "cell_type": "code",
   "execution_count": null,
   "metadata": {},
   "outputs": [],
   "source": [
    "max_time = 50\n",
    "input_size = 10\n",
    "\n",
    "# 入力データ\n",
    "x = tf.placeholder(tf.float32, [None, max_time, input_size])"
   ]
  },
  {
   "cell_type": "markdown",
   "metadata": {},
   "source": [
    "### 普通のRNNのcellを定義"
   ]
  },
  {
   "cell_type": "code",
   "execution_count": null,
   "metadata": {},
   "outputs": [],
   "source": [
    "#cell = tf.nn.rnn_cell.BasicRNNCell(num_units=100, activation=tf.nn.relu)"
   ]
  },
  {
   "cell_type": "markdown",
   "metadata": {},
   "source": [
    "### LSTMのcellを定義"
   ]
  },
  {
   "cell_type": "code",
   "execution_count": null,
   "metadata": {},
   "outputs": [],
   "source": [
    "cell = tf.nn.rnn_cell.LSTMCell(num_units=100, use_peepholes=True)"
   ]
  },
  {
   "cell_type": "markdown",
   "metadata": {},
   "source": [
    "### MultiRNN"
   ]
  },
  {
   "cell_type": "code",
   "execution_count": null,
   "metadata": {},
   "outputs": [],
   "source": [
    "#cell_1 = tf.nn.rnn_cell.BasicRNNCell(num_units=100, activation=tf.nn.relu)\n",
    "\n",
    "# LSTMのcellを定義\n",
    "#cell_2 = tf.nn.rnn_cell.LSTMCell(num_units=100, use_peepholes=True)\n",
    "# ドロップアウトをcell_2に負荷\n",
    "#cell2 = tf.nn.rnn_cell.DropoutWrapper(cell_2, output_keep_prob=0.6)\n",
    "\n",
    "# cell_1, cell_2の順番になる多層のrnn_cell\n",
    "#cell = tf.nn.rnn_cell.MultiRNNCell(cells=[cell_1, cell2])"
   ]
  },
  {
   "cell_type": "code",
   "execution_count": null,
   "metadata": {},
   "outputs": [],
   "source": [
    "# 時間展開して出力を取得\n",
    "outputs, _ = tf.nn.dynamic_rnn(cell=cell, inputs=x, dtype=tf.float32)\n",
    "\n",
    "# 3階テンソルを２階テンソルのリストに変換\n",
    "outputs_list = tf.unstack(outputs, axis=1)\n",
    "# 最終時系列情報を取得\n",
    "last_output = outputs_list[-1]\n",
    "\n",
    "w = tf.Variable(tf.truncated_normal([100,10], stddev=0.1))\n",
    "b = tf.Variable(tf.zeros([10]))\n",
    "out = tf.nn.softmax(tf.matmul(last_output, w ) + b)"
   ]
  }
 ],
 "metadata": {
  "kernelspec": {
   "display_name": "Python 3",
   "language": "python",
   "name": "python3"
  },
  "language_info": {
   "codemirror_mode": {
    "name": "ipython",
    "version": 3
   },
   "file_extension": ".py",
   "mimetype": "text/x-python",
   "name": "python",
   "nbconvert_exporter": "python",
   "pygments_lexer": "ipython3",
   "version": "3.6.5"
  }
 },
 "nbformat": 4,
 "nbformat_minor": 2
}
