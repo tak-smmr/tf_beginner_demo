{
 "cells": [
  {
   "cell_type": "code",
   "execution_count": null,
   "metadata": {
    "collapsed": true
   },
   "outputs": [],
   "source": [
    "#-*- coding:utf-8 -*-\n",
    "\n",
    "import tensorflow as tf\n",
    "\n",
    "a = tf.constant(3, name='const1') #定数a\n",
    "b = tf.Variable(0, name='val1') #変数b\n",
    "\n",
    "# aとbを足す\n",
    "add = tf.add(a,b)\n",
    "#変数bに足した結果をアサイン\n",
    "assign = tf.assign(b, add)\n",
    "c = tf.placeholder(tf.int32, name='input') #入力c\n",
    "# アサインした結果とcを掛け算\n",
    "mul = tf.multiply(assign, c)\n",
    "#変数の初期化\n",
    "init = tf.global_variables_initializer()\n",
    "\n",
    "with tf.Session() as sess:\n",
    "    #初期化を実行\n",
    "    sess.run(init)\n",
    "    for i in range(3):\n",
    "        # 掛け算を計算するまでのループを実行\n",
    "        print(sess.run(mul, feed_dict={c:3}))\n"
   ]
  }
 ],
 "metadata": {
  "kernelspec": {
   "display_name": "Python 3",
   "language": "python",
   "name": "python3"
  },
  "language_info": {
   "codemirror_mode": {
    "name": "ipython",
    "version": 3
   },
   "file_extension": ".py",
   "mimetype": "text/x-python",
   "name": "python",
   "nbconvert_exporter": "python",
   "pygments_lexer": "ipython3",
   "version": "3.6.0"
  }
 },
 "nbformat": 4,
 "nbformat_minor": 2
}
